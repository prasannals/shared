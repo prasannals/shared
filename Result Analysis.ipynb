{
 "cells": [
  {
   "cell_type": "code",
   "execution_count": 78,
   "metadata": {
    "collapsed": true
   },
   "outputs": [],
   "source": [
    "import pandas"
   ]
  },
  {
   "cell_type": "code",
   "execution_count": 79,
   "metadata": {
    "collapsed": true
   },
   "outputs": [],
   "source": [
    "res = pandas.read_csv('14cs_6.csv')"
   ]
  },
  {
   "cell_type": "code",
   "execution_count": 80,
   "metadata": {},
   "outputs": [
    {
     "data": {
      "text/plain": [
       "Index(['USN', 'Name', '10AL61_internal', '10AL61_external', '10AL61_total',\n",
       "       '10AL61pass', '10CS62_internal', '10CS62_external', '10CS62_total',\n",
       "       '10CS62pass', '10CS63_internal', '10CS63_external', '10CS63_total',\n",
       "       '10CS63pass', '10CS64_internal', '10CS64_external', '10CS64_total',\n",
       "       '10CS64pass', '10CS65_internal', '10CS65_external', '10CS65_total',\n",
       "       '10CS65pass', '10CS661_internal', '10CS661_external', '10CS661_total',\n",
       "       '10CS661pass', '10CSL67_internal', '10CSL67_external', '10CSL67_total',\n",
       "       '10CSL67pass', '10CSL68_internal', '10CSL68_external', '10CSL68_total',\n",
       "       '10CSL68pass', 'Total', 'Passed'],\n",
       "      dtype='object')"
      ]
     },
     "execution_count": 80,
     "metadata": {},
     "output_type": "execute_result"
    }
   ],
   "source": [
    "# the columns in the csv\n",
    "res.columns"
   ]
  },
  {
   "cell_type": "code",
   "execution_count": 81,
   "metadata": {},
   "outputs": [
    {
     "data": {
      "text/html": [
       "<div>\n",
       "<style>\n",
       "    .dataframe thead tr:only-child th {\n",
       "        text-align: right;\n",
       "    }\n",
       "\n",
       "    .dataframe thead th {\n",
       "        text-align: left;\n",
       "    }\n",
       "\n",
       "    .dataframe tbody tr th {\n",
       "        vertical-align: top;\n",
       "    }\n",
       "</style>\n",
       "<table border=\"1\" class=\"dataframe\">\n",
       "  <thead>\n",
       "    <tr style=\"text-align: right;\">\n",
       "      <th></th>\n",
       "      <th>USN</th>\n",
       "      <th>Name</th>\n",
       "      <th>10AL61_internal</th>\n",
       "      <th>10AL61_external</th>\n",
       "      <th>10AL61_total</th>\n",
       "      <th>10AL61pass</th>\n",
       "      <th>10CS62_internal</th>\n",
       "      <th>10CS62_external</th>\n",
       "      <th>10CS62_total</th>\n",
       "      <th>10CS62pass</th>\n",
       "      <th>...</th>\n",
       "      <th>10CSL67_internal</th>\n",
       "      <th>10CSL67_external</th>\n",
       "      <th>10CSL67_total</th>\n",
       "      <th>10CSL67pass</th>\n",
       "      <th>10CSL68_internal</th>\n",
       "      <th>10CSL68_external</th>\n",
       "      <th>10CSL68_total</th>\n",
       "      <th>10CSL68pass</th>\n",
       "      <th>Total</th>\n",
       "      <th>Passed</th>\n",
       "    </tr>\n",
       "  </thead>\n",
       "  <tbody>\n",
       "    <tr>\n",
       "      <th>0</th>\n",
       "      <td>1ew14cs001</td>\n",
       "      <td>ABHISHEK K.M</td>\n",
       "      <td>23</td>\n",
       "      <td>50</td>\n",
       "      <td>73</td>\n",
       "      <td>T</td>\n",
       "      <td>22</td>\n",
       "      <td>44</td>\n",
       "      <td>66</td>\n",
       "      <td>T</td>\n",
       "      <td>...</td>\n",
       "      <td>23</td>\n",
       "      <td>41</td>\n",
       "      <td>64</td>\n",
       "      <td>T</td>\n",
       "      <td>23</td>\n",
       "      <td>36</td>\n",
       "      <td>59</td>\n",
       "      <td>T</td>\n",
       "      <td>554</td>\n",
       "      <td>True</td>\n",
       "    </tr>\n",
       "    <tr>\n",
       "      <th>1</th>\n",
       "      <td>1ew14cs002</td>\n",
       "      <td>ADITHIYA SURESH</td>\n",
       "      <td>23</td>\n",
       "      <td>65</td>\n",
       "      <td>88</td>\n",
       "      <td>T</td>\n",
       "      <td>20</td>\n",
       "      <td>51</td>\n",
       "      <td>71</td>\n",
       "      <td>T</td>\n",
       "      <td>...</td>\n",
       "      <td>21</td>\n",
       "      <td>42</td>\n",
       "      <td>63</td>\n",
       "      <td>T</td>\n",
       "      <td>21</td>\n",
       "      <td>38</td>\n",
       "      <td>59</td>\n",
       "      <td>T</td>\n",
       "      <td>577</td>\n",
       "      <td>True</td>\n",
       "    </tr>\n",
       "    <tr>\n",
       "      <th>2</th>\n",
       "      <td>1ew14cs006</td>\n",
       "      <td>AKSHATA M MUDAKAVI</td>\n",
       "      <td>23</td>\n",
       "      <td>46</td>\n",
       "      <td>69</td>\n",
       "      <td>T</td>\n",
       "      <td>20</td>\n",
       "      <td>62</td>\n",
       "      <td>82</td>\n",
       "      <td>T</td>\n",
       "      <td>...</td>\n",
       "      <td>22</td>\n",
       "      <td>35</td>\n",
       "      <td>57</td>\n",
       "      <td>T</td>\n",
       "      <td>23</td>\n",
       "      <td>48</td>\n",
       "      <td>71</td>\n",
       "      <td>T</td>\n",
       "      <td>590</td>\n",
       "      <td>True</td>\n",
       "    </tr>\n",
       "    <tr>\n",
       "      <th>3</th>\n",
       "      <td>1ew14cs007</td>\n",
       "      <td>AKSHITHA A.R</td>\n",
       "      <td>25</td>\n",
       "      <td>70</td>\n",
       "      <td>95</td>\n",
       "      <td>T</td>\n",
       "      <td>25</td>\n",
       "      <td>69</td>\n",
       "      <td>94</td>\n",
       "      <td>T</td>\n",
       "      <td>...</td>\n",
       "      <td>24</td>\n",
       "      <td>48</td>\n",
       "      <td>72</td>\n",
       "      <td>T</td>\n",
       "      <td>23</td>\n",
       "      <td>47</td>\n",
       "      <td>70</td>\n",
       "      <td>T</td>\n",
       "      <td>681</td>\n",
       "      <td>True</td>\n",
       "    </tr>\n",
       "    <tr>\n",
       "      <th>4</th>\n",
       "      <td>1ew14cs008</td>\n",
       "      <td>AKSHATHA KADABA</td>\n",
       "      <td>24</td>\n",
       "      <td>66</td>\n",
       "      <td>90</td>\n",
       "      <td>T</td>\n",
       "      <td>23</td>\n",
       "      <td>56</td>\n",
       "      <td>79</td>\n",
       "      <td>T</td>\n",
       "      <td>...</td>\n",
       "      <td>24</td>\n",
       "      <td>48</td>\n",
       "      <td>72</td>\n",
       "      <td>T</td>\n",
       "      <td>23</td>\n",
       "      <td>48</td>\n",
       "      <td>71</td>\n",
       "      <td>T</td>\n",
       "      <td>650</td>\n",
       "      <td>True</td>\n",
       "    </tr>\n",
       "  </tbody>\n",
       "</table>\n",
       "<p>5 rows × 36 columns</p>\n",
       "</div>"
      ],
      "text/plain": [
       "          USN                Name  10AL61_internal  10AL61_external  \\\n",
       "0  1ew14cs001        ABHISHEK K.M               23               50   \n",
       "1  1ew14cs002     ADITHIYA SURESH               23               65   \n",
       "2  1ew14cs006  AKSHATA M MUDAKAVI               23               46   \n",
       "3  1ew14cs007        AKSHITHA A.R               25               70   \n",
       "4  1ew14cs008     AKSHATHA KADABA               24               66   \n",
       "\n",
       "   10AL61_total 10AL61pass  10CS62_internal  10CS62_external  10CS62_total  \\\n",
       "0            73          T               22               44            66   \n",
       "1            88          T               20               51            71   \n",
       "2            69          T               20               62            82   \n",
       "3            95          T               25               69            94   \n",
       "4            90          T               23               56            79   \n",
       "\n",
       "  10CS62pass   ...    10CSL67_internal  10CSL67_external  10CSL67_total  \\\n",
       "0          T   ...                  23                41             64   \n",
       "1          T   ...                  21                42             63   \n",
       "2          T   ...                  22                35             57   \n",
       "3          T   ...                  24                48             72   \n",
       "4          T   ...                  24                48             72   \n",
       "\n",
       "  10CSL67pass  10CSL68_internal  10CSL68_external  10CSL68_total 10CSL68pass  \\\n",
       "0           T                23                36             59           T   \n",
       "1           T                21                38             59           T   \n",
       "2           T                23                48             71           T   \n",
       "3           T                23                47             70           T   \n",
       "4           T                23                48             71           T   \n",
       "\n",
       "   Total  Passed  \n",
       "0    554    True  \n",
       "1    577    True  \n",
       "2    590    True  \n",
       "3    681    True  \n",
       "4    650    True  \n",
       "\n",
       "[5 rows x 36 columns]"
      ]
     },
     "execution_count": 81,
     "metadata": {},
     "output_type": "execute_result"
    }
   ],
   "source": [
    "# having a look at the format of the file\n",
    "res.head()"
   ]
  },
  {
   "cell_type": "code",
   "execution_count": 82,
   "metadata": {},
   "outputs": [],
   "source": [
    "def convert(x):\n",
    "    if x == 'T':\n",
    "        return 1\n",
    "    else:\n",
    "        return 0"
   ]
  },
  {
   "cell_type": "code",
   "execution_count": 83,
   "metadata": {
    "collapsed": true
   },
   "outputs": [],
   "source": [
    "def printAnalysis(subjectCode):\n",
    "    print('Subject Code : ' + subjectCode[:-4])\n",
    "    passed = res[subjectCode].apply(convert)\n",
    "    print('Number passed : ' + str(passed.sum()))\n",
    "    numFail = 0\n",
    "    for val in passed:\n",
    "        if val == 0:\n",
    "            numFail += 1\n",
    "    \n",
    "    print('Number Failed : ' + str(numFail))\n",
    "    print('Pass Percentage : ' + str(passed.sum()/ len(passed)))"
   ]
  },
  {
   "cell_type": "code",
   "execution_count": 84,
   "metadata": {},
   "outputs": [
    {
     "name": "stdout",
     "output_type": "stream",
     "text": [
      "Subject Code : 10AL61\n",
      "Number passed : 119\n",
      "Number Failed : 3\n",
      "Pass Percentage : 0.9754098360655737\n"
     ]
    }
   ],
   "source": [
    "printAnalysis('10AL61pass')"
   ]
  },
  {
   "cell_type": "code",
   "execution_count": 85,
   "metadata": {},
   "outputs": [
    {
     "name": "stdout",
     "output_type": "stream",
     "text": [
      "Subject Code : 10CS62\n",
      "Number passed : 121\n",
      "Number Failed : 1\n",
      "Pass Percentage : 0.9918032786885246\n"
     ]
    }
   ],
   "source": [
    "printAnalysis('10CS62pass')"
   ]
  },
  {
   "cell_type": "code",
   "execution_count": 86,
   "metadata": {},
   "outputs": [
    {
     "name": "stdout",
     "output_type": "stream",
     "text": [
      "Subject Code : 10CS63\n",
      "Number passed : 116\n",
      "Number Failed : 6\n",
      "Pass Percentage : 0.9508196721311475\n"
     ]
    }
   ],
   "source": [
    "printAnalysis('10CS63pass')"
   ]
  },
  {
   "cell_type": "code",
   "execution_count": 87,
   "metadata": {},
   "outputs": [
    {
     "name": "stdout",
     "output_type": "stream",
     "text": [
      "Subject Code : 10CS64\n",
      "Number passed : 113\n",
      "Number Failed : 9\n",
      "Pass Percentage : 0.9262295081967213\n"
     ]
    }
   ],
   "source": [
    "printAnalysis('10CS64pass')"
   ]
  },
  {
   "cell_type": "code",
   "execution_count": 88,
   "metadata": {},
   "outputs": [
    {
     "name": "stdout",
     "output_type": "stream",
     "text": [
      "Subject Code : 10CS65\n",
      "Number passed : 113\n",
      "Number Failed : 9\n",
      "Pass Percentage : 0.9262295081967213\n"
     ]
    }
   ],
   "source": [
    "printAnalysis('10CS65pass')"
   ]
  },
  {
   "cell_type": "code",
   "execution_count": 89,
   "metadata": {},
   "outputs": [
    {
     "name": "stdout",
     "output_type": "stream",
     "text": [
      "Subject Code : 10CS661\n",
      "Number passed : 121\n",
      "Number Failed : 1\n",
      "Pass Percentage : 0.9918032786885246\n"
     ]
    }
   ],
   "source": [
    "printAnalysis('10CS661pass')"
   ]
  },
  {
   "cell_type": "code",
   "execution_count": 90,
   "metadata": {},
   "outputs": [
    {
     "name": "stdout",
     "output_type": "stream",
     "text": [
      "Subject Code : 10CSL67\n",
      "Number passed : 122\n",
      "Number Failed : 0\n",
      "Pass Percentage : 1.0\n"
     ]
    }
   ],
   "source": [
    "printAnalysis('10CSL67pass')"
   ]
  },
  {
   "cell_type": "code",
   "execution_count": 91,
   "metadata": {},
   "outputs": [
    {
     "name": "stdout",
     "output_type": "stream",
     "text": [
      "Subject Code : 10CSL68\n",
      "Number passed : 122\n",
      "Number Failed : 0\n",
      "Pass Percentage : 1.0\n"
     ]
    }
   ],
   "source": [
    "printAnalysis('10CSL68pass')"
   ]
  },
  {
   "cell_type": "code",
   "execution_count": 92,
   "metadata": {},
   "outputs": [
    {
     "name": "stdout",
     "output_type": "stream",
     "text": [
      "0.819672131148\n"
     ]
    }
   ],
   "source": [
    "# Total pass percentage\n",
    "\n",
    "print(res['Passed'].sum() / len(res['Passed']))"
   ]
  },
  {
   "cell_type": "code",
   "execution_count": null,
   "metadata": {
    "collapsed": true
   },
   "outputs": [],
   "source": []
  }
 ],
 "metadata": {
  "kernelspec": {
   "display_name": "Python 3",
   "language": "python",
   "name": "python3"
  },
  "language_info": {
   "codemirror_mode": {
    "name": "ipython",
    "version": 3
   },
   "file_extension": ".py",
   "mimetype": "text/x-python",
   "name": "python",
   "nbconvert_exporter": "python",
   "pygments_lexer": "ipython3",
   "version": "3.6.1"
  }
 },
 "nbformat": 4,
 "nbformat_minor": 2
}
